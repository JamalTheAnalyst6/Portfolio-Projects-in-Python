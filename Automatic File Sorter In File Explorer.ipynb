{
 "cells": [
  {
   "cell_type": "markdown",
   "id": "f65b496d",
   "metadata": {},
   "source": [
    "# Automatic File Sorter in File Explorer"
   ]
  },
  {
   "cell_type": "code",
   "execution_count": 32,
   "id": "b5859a41",
   "metadata": {},
   "outputs": [],
   "source": [
    "import os, shutil"
   ]
  },
  {
   "cell_type": "code",
   "execution_count": 33,
   "id": "16bb68bb",
   "metadata": {},
   "outputs": [],
   "source": [
    "path = r\"C:/Users/jamal/OneDrive/Desktop/Data Analytics/Portfolio Projects/Portfolio Projects in Python/\""
   ]
  },
  {
   "cell_type": "code",
   "execution_count": 34,
   "id": "7adb0bc8",
   "metadata": {},
   "outputs": [],
   "source": [
    "file_name = os.listdir(path)"
   ]
  },
  {
   "cell_type": "code",
   "execution_count": 37,
   "id": "da15ce98",
   "metadata": {},
   "outputs": [],
   "source": [
    "folder_names = ['csv files', 'image files', 'text files']\n",
    "\n",
    "for loop in range(0,3):\n",
    "    if not os.path.exists(path + folder_names[loop]):\n",
    "        print(path + folder_names[loop])\n",
    "        os.makedirs((path + folder_names[loop]))"
   ]
  },
  {
   "cell_type": "code",
   "execution_count": 38,
   "id": "8506ae60",
   "metadata": {},
   "outputs": [
    {
     "name": "stdout",
     "output_type": "stream",
     "text": [
      "There are files in this path that were not moved!\n",
      "There are files in this path that were not moved!\n",
      "There are files in this path that were not moved!\n"
     ]
    }
   ],
   "source": [
    "for file in file_name:\n",
    "        if \".csv\" in file and not os.path.exists(path + \"csv files/\" + file):\n",
    "            shutil.move(path + file, path + \"csv files/\" + file)\n",
    "        elif \".png\" in file and not os.path.exists(path + \"image files/\" + file):\n",
    "            shutil.move(path + file, path + \"image files/\" + file)\n",
    "        elif \".docx\" in file and not os.path.exists(path + \"text files/\" + file):\n",
    "            shutil.move(path + file, path + \"text files/\" + file)\n",
    "        else:\n",
    "            print(\"There are files in this path that were not moved!\")"
   ]
  },
  {
   "cell_type": "code",
   "execution_count": null,
   "id": "541dac64",
   "metadata": {},
   "outputs": [],
   "source": []
  }
 ],
 "metadata": {
  "kernelspec": {
   "display_name": "Python 3 (ipykernel)",
   "language": "python",
   "name": "python3"
  },
  "language_info": {
   "codemirror_mode": {
    "name": "ipython",
    "version": 3
   },
   "file_extension": ".py",
   "mimetype": "text/x-python",
   "name": "python",
   "nbconvert_exporter": "python",
   "pygments_lexer": "ipython3",
   "version": "3.11.4"
  }
 },
 "nbformat": 4,
 "nbformat_minor": 5
}
